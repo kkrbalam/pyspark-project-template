{
 "cells": [
  {
   "cell_type": "code",
   "execution_count": 1,
   "metadata": {
    "slideshow": {
     "slide_type": "slide"
    },
    "tags": [
     "parameters"
    ]
   },
   "outputs": [],
   "source": [
    "app_name = 'template'\n",
    "yyyymm = '201810'\n",
    "db_tbl = 'btmp_cmd.nt82711_source'\n",
    "conf = None"
   ]
  },
  {
   "cell_type": "code",
   "execution_count": null,
   "metadata": {},
   "outputs": [],
   "source": [
    "from pyspark.sql import SparkSession\n",
    "\n",
    "import logging\n",
    "from cathay_spark import get_yarn_spark\n",
    "from my_module.config.get_config import merge_env_configs\n",
    "\n",
    "logger = logging.getLogger(__name__)\n",
    "logger.info('get spark session ...')\n",
    "app_config = merge_env_configs(conf)\n",
    "app_name = app_config.get('hippo.name')\n",
    "\n",
    "spark = get_yarn_spark(app_name)\n",
    "spark.conf.set(\"spark.executor.memory\", \"1g\")\n",
    "spark.conf.set(\"spark.executor.cores\", \"1g\")\n",
    "spark.conf.set(\"spark.num.executors\", 1)\n",
    "spark.conf.set(\"spark.driver.memory\", \"1g\")\n",
    "spark.conf.set(\"spark.driver.cores\", 1)\n",
    "spark.conf.set(\"spark.port.maxretries\", 100)"
   ]
  },
  {
   "cell_type": "code",
   "execution_count": 4,
   "metadata": {},
   "outputs": [
    {
     "name": "stdout",
     "output_type": "stream",
     "text": [
      "+---+---+\n",
      "|  a|  b|\n",
      "+---+---+\n",
      "|  1|  2|\n",
      "|  3|  4|\n",
      "+---+---+\n",
      "\n"
     ]
    }
   ],
   "source": [
    "df = spark.createDataFrame([(1,2), (3, 4)], ['a', 'b'])\n",
    "df.show()"
   ]
  },
  {
   "cell_type": "code",
   "execution_count": null,
   "metadata": {},
   "outputs": [],
   "source": [
    "logger.info('close spark session ...')\n",
    "\n",
    "if spark is not None:\n",
    "    spark.stop()\n",
    "else:\n",
    "    logger.warn('No such spark session')"
   ]
  }
 ],
 "metadata": {
  "celltoolbar": "Tags",
  "kernelspec": {
   "display_name": "Python 2",
   "language": "python",
   "name": "python2"
  },
  "language_info": {
   "codemirror_mode": {
    "name": "ipython",
    "version": 2
   },
   "file_extension": ".py",
   "mimetype": "text/x-python",
   "name": "python",
   "nbconvert_exporter": "python",
   "pygments_lexer": "ipython2",
   "version": "2.7.15"
  }
 },
 "nbformat": 4,
 "nbformat_minor": 2
}
